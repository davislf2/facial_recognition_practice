{
 "cells": [
  {
   "cell_type": "markdown",
   "metadata": {},
   "source": [
    "**Note: When you start kernel, make sure it's Python [anaconda]. Then it will be consistent with the conda environment you have sourced.**"
   ]
  },
  {
   "cell_type": "code",
   "execution_count": 3,
   "metadata": {
    "collapsed": false
   },
   "outputs": [
    {
     "data": {
      "text/plain": [
       "'19.15.0'"
      ]
     },
     "execution_count": 3,
     "metadata": {},
     "output_type": "execute_result"
    }
   ],
   "source": [
    "import dlib\n",
    "dlib.__version__"
   ]
  },
  {
   "cell_type": "markdown",
   "metadata": {},
   "source": [
    "# 1-1. Face Detector(HOG)"
   ]
  },
  {
   "cell_type": "code",
   "execution_count": 3,
   "metadata": {
    "collapsed": false
   },
   "outputs": [
    {
     "name": "stdout",
     "output_type": "stream",
     "text": [
      "Size of your image: (1024, 683, 3)\n",
      "dets rectangles[[(295, 146) (370, 221)]]\n",
      "--- 1.5113019943237305 seconds ---\n"
     ]
    }
   ],
   "source": [
    "from PIL import Image\n",
    "import dlib\n",
    "import time\n",
    "\n",
    "# Add this only to compute the time spent.\n",
    "start_time = time.time()\n",
    "\n",
    "detector = dlib.get_frontal_face_detector()\n",
    "\n",
    "# Load the jpg file into a numpy array\n",
    "\n",
    "image = dlib.load_rgb_image('example2.jpg')\n",
    "print('Size of your image: ' + str(image.shape))\n",
    "detector = dlib.get_frontal_face_detector()\n",
    "\n",
    "dets = detector(image,1)\n",
    "print(\"dets\",dets)\n",
    "for i, d in enumerate(dets):\n",
    "\n",
    "    # You can access the actual face itself like this:\n",
    "        face_image = image[d.top():d.bottom(), d.left():d.right()]\n",
    "        pil_image = Image.fromarray(face_image)\n",
    "        pil_image.show()\n",
    "\n",
    "print(\"--- %s seconds ---\" % (time.time() - start_time))"
   ]
  },
  {
   "cell_type": "markdown",
   "metadata": {},
   "source": [
    "# 1-2. Face Detector(CNN)"
   ]
  },
  {
   "cell_type": "code",
   "execution_count": 4,
   "metadata": {
    "collapsed": false
   },
   "outputs": [
    {
     "name": "stdout",
     "output_type": "stream",
     "text": [
      "Size of your image: (1024, 683, 3)\n",
      "dets mmod_rectangles[[(293, 148) (361, 216)]]\n",
      "--- 10.699554920196533 seconds ---\n"
     ]
    }
   ],
   "source": [
    "from PIL import Image\n",
    "# import dlib\n",
    "import time\n",
    "\n",
    "# Add this only to compute the time spent.\n",
    "start_time = time.time()\n",
    "\n",
    "# Change to trained model\n",
    "detector = dlib.cnn_face_detection_model_v1('mmod_human_face_detector.dat')\n",
    "\n",
    "# Load the jpg file into a numpy array\n",
    "\n",
    "image = dlib.load_rgb_image('example2.jpg')\n",
    "print('Size of your image: ' + str(image.shape))\n",
    "detector = dlib.cnn_face_detection_model_v1('mmod_human_face_detector.dat')\n",
    "\n",
    "dets = detector(image,1)\n",
    "print(\"dets\",dets)\n",
    "for i, d in enumerate(dets):\n",
    "\n",
    "    # You can access the actual face itself like this:\n",
    "        # Change to d.rect.top() ...\n",
    "        face_image = image[d.rect.top():d.rect.bottom(), d.rect.left():d.rect.right()]\n",
    "        pil_image = Image.fromarray(face_image)\n",
    "        pil_image.show()\n",
    "\n",
    "print(\"--- %s seconds ---\" % (time.time() - start_time))"
   ]
  },
  {
   "cell_type": "markdown",
   "metadata": {},
   "source": [
    "# 2. Face Landmark Detection"
   ]
  },
  {
   "cell_type": "markdown",
   "metadata": {},
   "source": [
    "Install\n",
    "```sh\n",
    "pip install opencv-python\n",
    "pip install imutils\n",
    "```\n",
    "**Note**:\n",
    "cv & cv2: C & C++ API, not represent versions. Both of them are OpenCV3"
   ]
  },
  {
   "cell_type": "code",
   "execution_count": null,
   "metadata": {
    "collapsed": true
   },
   "outputs": [],
   "source": [
    "import cv2\n",
    "print(cv2.__version__)"
   ]
  },
  {
   "cell_type": "code",
   "execution_count": null,
   "metadata": {
    "collapsed": false
   },
   "outputs": [],
   "source": [
    "# import the necessary packages\n",
    "from imutils import face_utils\n",
    "import dlib\n",
    "import cv2\n",
    "\n",
    "# initialize dlib's face detector (HOG-based) and then create\n",
    "# the facial landmark predictor\n",
    "p = \"shape_predictor_5_face_landmarks.dat\"\n",
    "detector = dlib.get_frontal_face_detector()\n",
    "predictor = dlib.shape_predictor(p)\n"
   ]
  },
  {
   "cell_type": "code",
   "execution_count": null,
   "metadata": {
    "collapsed": true
   },
   "outputs": [],
   "source": [
    "# load the input image and convert it to grayscale\n",
    "image = cv2.imread(\"example1.jpg\")"
   ]
  },
  {
   "cell_type": "code",
   "execution_count": null,
   "metadata": {
    "collapsed": true
   },
   "outputs": [],
   "source": [
    "# Resize the image to 1/2 size of original\n",
    "small = cv2.resize(image, (0,0), fx=0.5, fy=0.5) \n",
    "gray = cv2.cvtColor(small, cv2.COLOR_BGR2GRAY)"
   ]
  },
  {
   "cell_type": "code",
   "execution_count": null,
   "metadata": {
    "collapsed": true
   },
   "outputs": [],
   "source": [
    "# detect faces in the grayscale image\n",
    "rects = detector(gray, 0)"
   ]
  },
  {
   "cell_type": "code",
   "execution_count": null,
   "metadata": {
    "collapsed": true
   },
   "outputs": [],
   "source": [
    "# loop over the face detections\n",
    "for (i, rect) in enumerate(rects):\n",
    "        # determine the facial landmarks for the face region, then\n",
    "        # convert the facial landmark (x, y)-coordinates to a NumPy\n",
    "        # array\n",
    "        shape = predictor(gray, rect)\n",
    "        shape = face_utils.shape_to_np(shape)\n",
    "\n",
    "        # loop over the (x, y)-coordinates for the facial landmarks\n",
    "        # and draw them on the image\n",
    "        for (x, y) in shape:\n",
    "                cv2.circle(image, (x, y), 2, (0, 255, 0), -1)\n",
    "\n"
   ]
  },
  {
   "cell_type": "code",
   "execution_count": null,
   "metadata": {
    "collapsed": true
   },
   "outputs": [],
   "source": [
    "# show the output image with the face detections + facial landmarks\n",
    "cv2.imshow(\"Output\", small)\n",
    "cv2.waitKey(0)"
   ]
  }
 ],
 "metadata": {
  "kernelspec": {
   "display_name": "Python [anaconda]",
   "language": "python",
   "name": "Python [anaconda]"
  },
  "language_info": {
   "codemirror_mode": {
    "name": "ipython",
    "version": 3
   },
   "file_extension": ".py",
   "mimetype": "text/x-python",
   "name": "python",
   "nbconvert_exporter": "python",
   "pygments_lexer": "ipython3",
   "version": "3.5.2"
  }
 },
 "nbformat": 4,
 "nbformat_minor": 2
}
